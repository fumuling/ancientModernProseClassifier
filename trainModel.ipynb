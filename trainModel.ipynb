{
 "cells": [
  {
   "cell_type": "markdown",
   "metadata": {},
   "source": [
    "# 导入需要用到的库"
   ]
  },
  {
   "cell_type": "code",
   "execution_count": 61,
   "metadata": {},
   "outputs": [],
   "source": [
    "from sklearn.feature_extraction.text import CountVectorizer, TfidfVectorizer\n",
    "import os\n",
    "from sklearn.model_selection import train_test_split\n",
    "from sklearn.naive_bayes import MultinomialNB, BernoulliNB\n",
    "from sklearn.metrics import accuracy_score\n",
    "import joblib"
   ]
  },
  {
   "cell_type": "markdown",
   "metadata": {},
   "source": [
    "## 先将要分的类用键值对表示，使用int类型数据方便缩小tag的长度"
   ]
  },
  {
   "cell_type": "code",
   "execution_count": 62,
   "metadata": {},
   "outputs": [],
   "source": [
    "LABEL_MAP = {'现代文' : 0, '文言文': 1, '诗' : 2, '词' : 3}\n",
    "PATH = \"D:/project/ancientModernProseClassifier/data/\""
   ]
  },
  {
   "cell_type": "markdown",
   "metadata": {},
   "source": [
    "# ↓导入所有分词完成之后的文本和数据，保存在documents的列表中,标签保存在labels列表"
   ]
  },
  {
   "cell_type": "code",
   "execution_count": 63,
   "metadata": {},
   "outputs": [],
   "source": [
    "documents = []\n",
    "labels = []\n",
    "\n",
    "for label_dir in os.listdir(PATH):\n",
    "    file_path = os.path.join(PATH, label_dir)\n",
    "    for file in os.listdir(file_path):\n",
    "        filename = os.path.join(file_path, file)\n",
    "        with open(filename, 'r', encoding='UTF-8') as fr:\n",
    "            for line in fr.readlines():\n",
    "                if (line != '\\n'):\n",
    "                    labels.append(LABEL_MAP[label_dir])\n",
    "                    documents.append(line)"
   ]
  },
  {
   "cell_type": "markdown",
   "metadata": {},
   "source": [
    "# 划分训练集和测试集"
   ]
  },
  {
   "cell_type": "code",
   "execution_count": 64,
   "metadata": {},
   "outputs": [],
   "source": [
    "train_data_list, test_data_list, train_class_list, test_class_list = train_test_split(documents, labels, test_size=0.2)"
   ]
  },
  {
   "cell_type": "markdown",
   "metadata": {},
   "source": [
    "#### 验证训练集和测试集的大小是否是0.8:0.2"
   ]
  },
  {
   "cell_type": "code",
   "execution_count": 65,
   "metadata": {},
   "outputs": [
    {
     "data": {
      "text/plain": [
       "3.9999976295622037"
      ]
     },
     "execution_count": 65,
     "metadata": {},
     "output_type": "execute_result"
    }
   ],
   "source": [
    "len(train_data_list) / len(test_data_list)"
   ]
  },
  {
   "cell_type": "markdown",
   "metadata": {},
   "source": [
    "# 计算每段文本的TF-IDF，生成矩阵"
   ]
  },
  {
   "cell_type": "code",
   "execution_count": 66,
   "metadata": {},
   "outputs": [],
   "source": [
    "train_tfidf_vector = TfidfVectorizer(token_pattern='\\\\b\\\\w+\\\\b', max_df=0.5)\n",
    "train_x = train_tfidf_vector.fit_transform(train_data_list)"
   ]
  },
  {
   "cell_type": "code",
   "execution_count": 67,
   "metadata": {},
   "outputs": [
    {
     "data": {
      "text/plain": [
       "<1687451x3151396 sparse matrix of type '<class 'numpy.float64'>'\n",
       "\twith 48051151 stored elements in Compressed Sparse Row format>"
      ]
     },
     "execution_count": 67,
     "metadata": {},
     "output_type": "execute_result"
    }
   ],
   "source": [
    "train_x"
   ]
  },
  {
   "cell_type": "code",
   "execution_count": 68,
   "metadata": {},
   "outputs": [],
   "source": [
    "test_tfidf_vector = TfidfVectorizer(max_df=0.5, vocabulary=train_tfidf_vector.vocabulary_)\n",
    "test_x = test_tfidf_vector.fit_transform(test_data_list)"
   ]
  },
  {
   "cell_type": "code",
   "execution_count": 69,
   "metadata": {},
   "outputs": [
    {
     "data": {
      "text/plain": [
       "<421863x3151396 sparse matrix of type '<class 'numpy.float64'>'\n",
       "\twith 8746856 stored elements in Compressed Sparse Row format>"
      ]
     },
     "execution_count": 69,
     "metadata": {},
     "output_type": "execute_result"
    }
   ],
   "source": [
    "test_x"
   ]
  },
  {
   "cell_type": "markdown",
   "metadata": {},
   "source": [
    "# 训练模型"
   ]
  },
  {
   "cell_type": "code",
   "execution_count": 72,
   "metadata": {},
   "outputs": [
    {
     "data": {
      "text/plain": [
       "BernoulliNB(alpha=0.01)"
      ]
     },
     "execution_count": 72,
     "metadata": {},
     "output_type": "execute_result"
    }
   ],
   "source": [
    "MultinomialNB_clf = MultinomialNB(alpha = 0.1)\n",
    "BernoulliNB_clf = BernoulliNB(alpha = 0.01)\n",
    "MultinomialNB_clf.fit(train_x, train_class_list)\n",
    "BernoulliNB_clf.fit(train_x, train_class_list)"
   ]
  },
  {
   "cell_type": "markdown",
   "metadata": {},
   "source": [
    "# 测试模型"
   ]
  },
  {
   "cell_type": "code",
   "execution_count": 77,
   "metadata": {},
   "outputs": [
    {
     "name": "stdout",
     "output_type": "stream",
     "text": [
      "多项式朴素贝叶斯的accuracy_socre为: 0.914946321436106\n",
      "伯努利朴素贝叶斯的accuracy_socre为: 0.90774019053579\n"
     ]
    }
   ],
   "source": [
    "MultinomialNB_pred = MultinomialNB_clf.predict(test_x)\n",
    "BernoulliNB_pred = BernoulliNB_clf.predict(test_x)\n",
    "print(\"多项式朴素贝叶斯的accuracy_socre为:\", accuracy_score(test_class_list, MultinomialNB_pred))\n",
    "print(\"伯努利朴素贝叶斯的accuracy_socre为:\", accuracy_score(test_class_list, BernoulliNB_pred))"
   ]
  },
  {
   "cell_type": "markdown",
   "metadata": {},
   "source": [
    "# 保存模型"
   ]
  },
  {
   "cell_type": "code",
   "execution_count": 78,
   "metadata": {},
   "outputs": [
    {
     "data": {
      "text/plain": [
       "['BernoulliNB_clf_model.pkl']"
      ]
     },
     "execution_count": 78,
     "metadata": {},
     "output_type": "execute_result"
    }
   ],
   "source": [
    "joblib.dump(train_tfidf_vector, 'TF-IDF_model.pkl')\n",
    "joblib.dump(MultinomialNB_clf, 'MultinomialNB_clf_model.pkl')\n",
    "joblib.dump(BernoulliNB_clf, 'BernoulliNB_clf_model.pkl')"
   ]
  }
 ],
 "metadata": {
  "kernelspec": {
   "display_name": "Python 3",
   "language": "python",
   "name": "python3"
  },
  "language_info": {
   "codemirror_mode": {
    "name": "ipython",
    "version": 3
   },
   "file_extension": ".py",
   "mimetype": "text/x-python",
   "name": "python",
   "nbconvert_exporter": "python",
   "pygments_lexer": "ipython3",
   "version": "3.8.3"
  }
 },
 "nbformat": 4,
 "nbformat_minor": 4
}

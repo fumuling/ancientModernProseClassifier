{
 "cells": [
  {
   "cell_type": "code",
   "execution_count": 3,
   "metadata": {},
   "outputs": [],
   "source": [
    "import json\n",
    "import os\n",
    "# 获取目标文件夹的路径\n",
    "# filedir ='C:/Users/Desktop/04072'\n",
    "filedir ='D:\\周景怡\\周景怡\\WHU\\大三上\\文本理解与数据挖掘\\chinese-poetry-master\\peotall'\n",
    "# 获取当前文件夹中的文件名称列表\n",
    "# filenames=os.listdir(filedir)\n",
    "filenames=os.listdir(filedir)"
   ]
  },
  {
   "cell_type": "code",
   "execution_count": 4,
   "metadata": {},
   "outputs": [],
   "source": [
    "for filename in filenames:\n",
    "    filepath = filedir+'/'+filename\n",
    "    # 遍历单个文件，读取行数\n",
    "    # for line in open(filepath, encoding=\"utf-8\"):\n",
    "    #     d.writelines(line)\n",
    "    #     d.write('\\n')\n",
    "    d = open(filepath, encoding=\"utf-8\")\n",
    "    setting = json.load(d)\n",
    "    d.close()\n",
    "\n",
    "\n",
    "    for i in range(len(setting)):\n",
    "        f = open('D:\\周景怡\\周景怡\\WHU\\大三上\\文本理解与数据挖掘\\chinese-poetry-master\\peotall\\peotall.txt', 'a', encoding=\"utf-8\")\n",
    "        f.write('\\n' + str(setting[i].get(\"paragraphs\")))\n",
    "        f.close()"
   ]
  },
  {
   "cell_type": "code",
   "execution_count": null,
   "metadata": {},
   "outputs": [],
   "source": []
  }
 ],
 "metadata": {
  "kernelspec": {
   "display_name": "Python 3",
   "language": "python",
   "name": "python3"
  },
  "language_info": {
   "codemirror_mode": {
    "name": "ipython",
    "version": 3
   },
   "file_extension": ".py",
   "mimetype": "text/x-python",
   "name": "python",
   "nbconvert_exporter": "python",
   "pygments_lexer": "ipython3",
   "version": "3.8.5"
  }
 },
 "nbformat": 4,
 "nbformat_minor": 4
}
